{
 "cells": [
  {
   "cell_type": "code",
   "execution_count": 1,
   "metadata": {},
   "outputs": [],
   "source": [
    "import random\n",
    "import json\n",
    "import requests\n",
    "from config import api_key\n",
    "from pprint import pprint"
   ]
  },
  {
   "cell_type": "code",
   "execution_count": 2,
   "metadata": {},
   "outputs": [],
   "source": [
    "url = \"http://api.marketstack.com/v1/eod\"\n",
    "symbols = \"GME\"\n",
    "interval = \"1h\"\n",
    "date_from = \"2021-01-01\"\n",
    "date_from = \"2021-03-31\""
   ]
  },
  {
   "cell_type": "code",
   "execution_count": 7,
   "metadata": {},
   "outputs": [],
   "source": [
    "query_url = url + \"?access_key=\" + api_key + \"&q=\" + symbols #+ \"&q=\" + interval + \"&q=\" + date_from + \"&q=\" + date_from  "
   ]
  },
  {
   "cell_type": "code",
   "execution_count": 4,
   "metadata": {},
   "outputs": [],
   "source": [
    "##params = {'access_key': 'api_key'}\n",
    "##market_data = requests.get('https://api.marketstack.com/v1/eod?', params)\n",
    "market_data = requests.get(query_url)"
   ]
  },
  {
   "cell_type": "code",
   "execution_count": 5,
   "metadata": {},
   "outputs": [
    {
     "data": {
      "text/plain": [
       "{'error': {'code': 'validation_error',\n",
       "  'message': 'Request failed with validation error',\n",
       "  'context': [{'key': 'symbols',\n",
       "    'message': 'You have to specify at least 1 symbol'}]}}"
      ]
     },
     "execution_count": 5,
     "metadata": {},
     "output_type": "execute_result"
    }
   ],
   "source": [
    "api_response = market_data.json()\n",
    "api_response\n",
    "#market_list = market_data['data']\n",
    "#pprint(market_list)"
   ]
  },
  {
   "cell_type": "code",
   "execution_count": 6,
   "metadata": {},
   "outputs": [
    {
     "ename": "SyntaxError",
     "evalue": "invalid syntax (<ipython-input-6-4f3aa9d19079>, line 3)",
     "output_type": "error",
     "traceback": [
      "\u001b[1;36m  File \u001b[1;32m\"<ipython-input-6-4f3aa9d19079>\"\u001b[1;36m, line \u001b[1;32m3\u001b[0m\n\u001b[1;33m    // Intraday Data API Endpoint\u001b[0m\n\u001b[1;37m    ^\u001b[0m\n\u001b[1;31mSyntaxError\u001b[0m\u001b[1;31m:\u001b[0m invalid syntax\n"
     ]
    }
   ],
   "source": [
    "#This is from API website: for reference only\n",
    "\n",
    "// Intraday Data API Endpoint\n",
    "\n",
    "http://api.marketstack.com/v1/intraday\n",
    "    ? access_key = YOUR_ACCESS_KEY\n",
    "    & symbols = AAPL\n",
    "    \n",
    "// optional parameters: \n",
    "\n",
    "    & interval = 1h\n",
    "    & sort = DESC\n",
    "    & date_from = YYYY-MM-DD\n",
    "    & date_to = YYYY-MM-DD\n",
    "    & limit = 100\n",
    "    & offset = 0"
   ]
  }
 ],
 "metadata": {
  "kernelspec": {
   "display_name": "Python 3",
   "language": "python",
   "name": "python3"
  },
  "language_info": {
   "codemirror_mode": {
    "name": "ipython",
    "version": 3
   },
   "file_extension": ".py",
   "mimetype": "text/x-python",
   "name": "python",
   "nbconvert_exporter": "python",
   "pygments_lexer": "ipython3",
   "version": "3.8.5"
  }
 },
 "nbformat": 4,
 "nbformat_minor": 4
}
